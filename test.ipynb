{
 "cells": [
  {
   "cell_type": "code",
   "execution_count": 6,
   "metadata": {},
   "outputs": [],
   "source": [
    "import pandas as pd\n",
    "import numpy as np\n",
    "from sklearn.ensemble import RandomForestRegressor\n",
    "import time\n",
    "from datetime import datetime\n",
    "import os"
   ]
  },
  {
   "cell_type": "code",
   "execution_count": 8,
   "metadata": {},
   "outputs": [],
   "source": [
    "today= datetime.today()\n",
    "Data_file = os.path.join('Data',str(today.date()),'Data.csv')\n",
    "data = pd.read_csv(Data_file,header=0,skiprows=[0,2,3])\n",
    "data_cleaned = data.loc[:, (data.max(axis=0) != data.min(axis=0)) & ~data.isna().all(axis=0)]\n",
    "FyFL = data_cleaned.pop('Car.FyFL')\n",
    "FyFR = data_cleaned.pop('Car.FyFR')\n",
    "FyRL = data_cleaned.pop('Car.FyRL')\n",
    "FyRR = data_cleaned.pop('Car.FyRR')\n"
   ]
  },
  {
   "cell_type": "code",
   "execution_count": 11,
   "metadata": {},
   "outputs": [
    {
     "data": {
      "text/plain": [
       "['Car.FxFL',\n",
       " 'Car.FxFR',\n",
       " 'Car.FxRL',\n",
       " 'Car.FxRR',\n",
       " 'Car.FzFL',\n",
       " 'Car.FzFR',\n",
       " 'Car.FzRL',\n",
       " 'Car.FzRR',\n",
       " 'Car.PitchAcc',\n",
       " 'Car.RollAcc',\n",
       " 'Car.SteerAngleFL',\n",
       " 'Car.SteerAngleFR',\n",
       " 'Car.TrqAlignFL',\n",
       " 'Car.TrqAlignFR',\n",
       " 'Car.TrqAlignRL',\n",
       " 'Car.TrqAlignRR',\n",
       " 'Car.WheelSpd_FL',\n",
       " 'Car.WheelSpd_FR',\n",
       " 'Car.WheelSpd_RL',\n",
       " 'Car.WheelSpd_RR',\n",
       " 'Car.YawAcc',\n",
       " 'Car.YawRate',\n",
       " 'Car.ax',\n",
       " 'Car.ay',\n",
       " 'Car.az',\n",
       " 'DM.Steer.Ang',\n",
       " 'PT.WFL.Trq_Drive',\n",
       " 'PT.WFL.rotv',\n",
       " 'PT.WFR.Trq_Drive',\n",
       " 'PT.WFR.rotv',\n",
       " 'PT.WRL.Trq_Drive',\n",
       " 'PT.WRL.rotv',\n",
       " 'PT.WRR.Trq_Drive',\n",
       " 'PT.WRR.rotv']"
      ]
     },
     "execution_count": 11,
     "metadata": {},
     "output_type": "execute_result"
    }
   ],
   "source": [
    "data_cleaned.columns.to_list()"
   ]
  }
 ],
 "metadata": {
  "kernelspec": {
   "display_name": "Python 3",
   "language": "python",
   "name": "python3"
  },
  "language_info": {
   "codemirror_mode": {
    "name": "ipython",
    "version": 3
   },
   "file_extension": ".py",
   "mimetype": "text/x-python",
   "name": "python",
   "nbconvert_exporter": "python",
   "pygments_lexer": "ipython3",
   "version": "3.12.1"
  }
 },
 "nbformat": 4,
 "nbformat_minor": 2
}
