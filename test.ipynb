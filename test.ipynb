{
 "cells": [
  {
   "cell_type": "code",
   "execution_count": 2,
   "metadata": {},
   "outputs": [],
   "source": [
    "import pandas as pd\n",
    "import torch\n",
    "import torch.nn as nn\n",
    "import torch.optim as optim\n",
    "import numpy as np\n",
    "from torch.utils.data import Dataset, DataLoader\n",
    "from tqdm import tqdm\n",
    "import os\n",
    "from datetime import datetime"
   ]
  },
  {
   "cell_type": "code",
   "execution_count": 4,
   "metadata": {},
   "outputs": [],
   "source": [
    "Data = pd.read_csv('Data/TV_JM_145120.csv')\n",
    "y = Data.pop(str(Data.columns[-1])).values\n",
    "Data = torch.tensor(Data.values, dtype=torch.float32)\n",
    "y = torch.tensor(y,dtype=torch.float32)\n"
   ]
  },
  {
   "cell_type": "code",
   "execution_count": 5,
   "metadata": {},
   "outputs": [
    {
     "data": {
      "text/plain": [
       "tensor([  0.5259,   2.1896,   4.1730,  ..., 210.6595, 210.0481, 207.5388])"
      ]
     },
     "execution_count": 5,
     "metadata": {},
     "output_type": "execute_result"
    }
   ],
   "source": [
    "y"
   ]
  },
  {
   "cell_type": "code",
   "execution_count": 6,
   "metadata": {},
   "outputs": [
    {
     "data": {
      "text/plain": [
       "3033"
      ]
     },
     "execution_count": 6,
     "metadata": {},
     "output_type": "execute_result"
    }
   ],
   "source": [
    "len(y)"
   ]
  },
  {
   "cell_type": "code",
   "execution_count": 8,
   "metadata": {},
   "outputs": [],
   "source": [
    "data_X = []\n",
    "data_Y = []\n",
    "\n",
    "for i in range(0, len(Data)-10):\n",
    "    if i+10 > len(Data):\n",
    "        break\n",
    "    _x = Data[i:i+10, :]\n",
    "    _y = y[i:i+10]\n",
    "\n",
    "    data_X.append(_x)  \n",
    "    data_Y.append(_y)"
   ]
  },
  {
   "cell_type": "code",
   "execution_count": 11,
   "metadata": {},
   "outputs": [
    {
     "name": "stdout",
     "output_type": "stream",
     "text": [
      "tensor([[-2.2764e-08,  2.4780e+00,  2.5569e+00,  2.4780e+00,  2.5569e+00,\n",
      "          7.2644e-01,  7.3483e-03,  1.5162e-02, -5.8072e-05,  2.0719e-04,\n",
      "          2.1193e-02],\n",
      "        [ 1.9880e-06,  5.1146e+00,  5.1275e+00,  5.1146e+00,  5.1275e+00,\n",
      "          2.1436e+00, -9.9972e-03, -1.6720e-02, -5.3554e-06, -1.0266e-04,\n",
      "          1.6637e-01],\n",
      "        [ 2.2579e-05,  7.2590e+00,  7.2854e+00,  7.2590e+00,  7.2854e+00,\n",
      "          3.2933e+00,  2.6741e-04,  3.8008e-03,  2.3281e-05,  2.4398e-05,\n",
      "          4.3940e-01],\n",
      "        [ 4.8083e-05,  9.0152e+00,  8.9973e+00,  9.0152e+00,  8.9973e+00,\n",
      "          4.2287e+00, -1.2426e-02, -1.2347e-02,  5.0472e-06, -1.9972e-04,\n",
      "          8.1697e-01],\n",
      "        [-1.6151e-04,  1.0398e+01,  1.0317e+01,  1.0398e+01,  1.0317e+01,\n",
      "          4.9499e+00,  6.1343e-03, -2.1954e-02,  7.8917e-05, -4.9284e-05,\n",
      "          1.2773e+00],\n",
      "        [-6.3252e-05,  1.1405e+01,  1.1328e+01,  1.1406e+01,  1.1329e+01,\n",
      "          5.4868e+00, -2.2998e-03, -2.8660e-02,  1.1853e-05, -2.6562e-04,\n",
      "          1.8003e+00],\n",
      "        [ 3.4840e-04,  1.2088e+01,  1.2053e+01,  1.2088e+01,  1.2054e+01,\n",
      "          5.8580e+00, -5.2319e-03, -3.1493e-02,  9.1810e-05, -3.0941e-04,\n",
      "          2.3687e+00],\n",
      "        [ 3.3101e-04,  1.2521e+01,  1.2488e+01,  1.2522e+01,  1.2488e+01,\n",
      "          6.0816e+00, -3.5005e-03, -3.3583e-02,  9.8564e-05, -2.7877e-04,\n",
      "          2.9667e+00],\n",
      "        [-1.5916e-04,  1.2738e+01,  1.2667e+01,  1.2739e+01,  1.2668e+01,\n",
      "          6.1824e+00, -2.5430e-04, -3.4447e-02,  2.1971e-05, -1.2767e-04,\n",
      "          3.5808e+00],\n",
      "        [-5.0760e-04,  1.2709e+01,  1.2698e+01,  1.2709e+01,  1.2699e+01,\n",
      "          6.1766e+00,  5.9702e-03, -3.6702e-02, -1.3753e-04,  2.9557e-04,\n",
      "          4.1995e+00]]) \n",
      " tensor([ 0.5259,  2.1896,  4.1730,  2.8592,  3.5930,  0.8969,  3.0460,  1.5108,\n",
      "        -2.0663, -2.7690])\n"
     ]
    }
   ],
   "source": [
    "print(data_X[0],'\\n',data_Y[0])"
   ]
  }
 ],
 "metadata": {
  "kernelspec": {
   "display_name": "Python 3",
   "language": "python",
   "name": "python3"
  },
  "language_info": {
   "codemirror_mode": {
    "name": "ipython",
    "version": 3
   },
   "file_extension": ".py",
   "mimetype": "text/x-python",
   "name": "python",
   "nbconvert_exporter": "python",
   "pygments_lexer": "ipython3",
   "version": "3.9.18"
  }
 },
 "nbformat": 4,
 "nbformat_minor": 2
}
