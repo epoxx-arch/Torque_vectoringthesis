{
 "cells": [
  {
   "cell_type": "code",
   "execution_count": 1,
   "metadata": {},
   "outputs": [],
   "source": [
    "import os"
   ]
  },
  {
   "cell_type": "code",
   "execution_count": 2,
   "metadata": {},
   "outputs": [
    {
     "name": "stdout",
     "output_type": "stream",
     "text": [
      "['TV_JM_154252.dat', 'TV_JM_154347.dat', 'TV_JM_154426.dat', 'TV_JM_154720.dat', 'TV_JM_154801.dat', 'TV_JM_154845.dat', 'TV_JM_154930.dat', 'TV_JM_154958.dat', 'TV_JM_155037.dat', 'TV_JM_155127.dat', 'TV_JM_155210.dat', 'TV_JM_155304.dat', 'TV_JM_155353.dat', 'TV_JM_155429.dat', 'TV_JM_155536.dat', 'TV_JM_155636.dat', 'TV_JM_155719.dat', 'TV_JM_155829.dat', 'TV_JM_155914.dat', 'TV_JM_155958.dat', 'TV_JM_160041.dat', 'TV_JM_160125.dat', 'TV_JM_160208.dat', 'TV_JM_160313.dat', 'TV_JM_160347.dat', 'TV_JM_160443.dat', 'TV_JM_160527.dat', 'TV_JM_160603.dat', 'TV_JM_160654.dat', 'TV_JM_160822.dat', 'TV_JM_161026.dat', 'TV_JM_161056.dat', 'TV_JM_161239.dat', 'TV_JM_161306.dat', 'TV_JM_161336.dat', 'TV_JM_161405.dat', 'TV_JM_161436.dat', 'TV_JM_161509.dat', 'TV_JM_161530.dat', 'TV_JM_161559.dat', 'TV_JM_161630.dat', 'TV_JM_161705.dat', 'TV_JM_161737.dat', 'TV_JM_161806.dat', 'TV_JM_161839.dat', 'TV_JM_161906.dat', 'TV_JM_161931.dat', 'TV_JM_161956.dat', 'TV_JM_162022.dat', 'TV_JM_162054.dat', 'TV_JM_162121.dat', 'TV_JM_162147.dat', 'TV_JM_162214.dat', 'TV_JM_162241.dat', 'TV_JM_162339.dat', 'TV_JM_154213.dat']\n"
     ]
    }
   ],
   "source": [
    "print(os.listdir(\"D:/TV/FCM_Projects_JM/FS_race/SimOutput/DESKTOP-00IBLK8/20240123\"))"
   ]
  }
 ],
 "metadata": {
  "kernelspec": {
   "display_name": "Python 3",
   "language": "python",
   "name": "python3"
  },
  "language_info": {
   "codemirror_mode": {
    "name": "ipython",
    "version": 3
   },
   "file_extension": ".py",
   "mimetype": "text/x-python",
   "name": "python",
   "nbconvert_exporter": "python",
   "pygments_lexer": "ipython3",
   "version": "3.12.1"
  }
 },
 "nbformat": 4,
 "nbformat_minor": 2
}
