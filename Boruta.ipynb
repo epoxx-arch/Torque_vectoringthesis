{
 "cells": [
  {
   "cell_type": "code",
   "execution_count": null,
   "metadata": {},
   "outputs": [],
   "source": [
    "import pandas as pd\n",
    "import numpy as np\n",
    "from sklearn.ensemble import RandomForestRegressor\n",
    "import time\n"
   ]
  },
  {
   "cell_type": "code",
   "execution_count": null,
   "metadata": {},
   "outputs": [],
   "source": [
    "Data_file = 'Data/2023-12-28/Data.csv'\n",
    "data = pd.read_csv(Data_file,header=0,skiprows=[0,2,3])\n",
    "data_cleaned = data.loc[:, (data.max(axis=0) != data.min(axis=0)) & ~data.isna().all(axis=0)]\n",
    "FyFL = data_cleaned.pop('Car.FyFL')\n",
    "FyFR = data_cleaned.pop('Car.FyFR')\n",
    "FyRL = data_cleaned.pop('Car.FyRL')\n",
    "FyRR = data_cleaned.pop('Car.FyRR')\n"
   ]
  },
  {
   "cell_type": "code",
   "execution_count": null,
   "metadata": {},
   "outputs": [],
   "source": [
    "np.random.seed(4)\n",
    "X_shadow = data_cleaned.apply(np.random.permutation)\n",
    "X_shadow.columns = ['shiffled_' + feat for feat in data_cleaned.columns]\n",
    "\n",
    "X_boruto =pd.concat([data_cleaned, X_shadow],axis=1)\n",
    "X_boruto"
   ]
  },
  {
   "cell_type": "markdown",
   "metadata": {},
   "source": [
    "FyFL \n",
    "FyFR \n",
    "FyRL \n",
    "FyRR "
   ]
  },
  {
   "cell_type": "code",
   "execution_count": null,
   "metadata": {},
   "outputs": [],
   "source": [
    "hints1 = np.zeros(len(data_cleaned.columns))\n",
    "for i in range(200):\n",
    "    np.random.seed(i)\n",
    "    print('Cal_FyFl', i)\n",
    "    X_shadow = data_cleaned.apply(np.random.permutation)\n",
    "    X_shadow.columns = ['shuffled_' + feat for feat in data_cleaned.columns]\n",
    "\n",
    "    X_boruto = pd.concat([data_cleaned, X_shadow], axis=1)\n",
    "\n",
    "    mdl = RandomForestRegressor(max_depth=6)\n",
    "    mdl.fit(X_boruto, FyFL)\n",
    "    feature_imp_x = mdl.feature_importances_[:len(data_cleaned.columns)]\n",
    "    feature_imp_shuffled = mdl.feature_importances_[len(data_cleaned.columns):]\n",
    "    hints1 += (feature_imp_x > feature_imp_shuffled.max())"
   ]
  },
  {
   "cell_type": "code",
   "execution_count": null,
   "metadata": {},
   "outputs": [],
   "source": [
    "usable_data1 = pd.DataFrame(hints1,index=data_cleaned.columns)\n",
    "\n",
    "with pd.ExcelWriter('FxFL.xlsx', engine=\"xlsxwriter\") as writer:\n",
    "            usable_data1.to_excel(writer, sheet_name=\"variables\")\n"
   ]
  }
 ],
 "metadata": {
  "kernelspec": {
   "display_name": "torque_vectoring",
   "language": "python",
   "name": "python3"
  },
  "language_info": {
   "codemirror_mode": {
    "name": "ipython",
    "version": 3
   },
   "file_extension": ".py",
   "mimetype": "text/x-python",
   "name": "python",
   "nbconvert_exporter": "python",
   "pygments_lexer": "ipython3",
   "version": "3.7.16"
  }
 },
 "nbformat": 4,
 "nbformat_minor": 2
}
