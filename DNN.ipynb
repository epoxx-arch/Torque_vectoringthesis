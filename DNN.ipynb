{
 "cells": [
  {
   "cell_type": "code",
   "execution_count": 2,
   "metadata": {},
   "outputs": [],
   "source": [
    "import pandas as pd\n",
    "import torch\n",
    "import torch.nn as nn\n",
    "import torch.optim as optim\n",
    "import numpy as np\n",
    "from torch.utils.data import Dataset, DataLoader\n",
    "from sklearn.model_selection import train_test_split"
   ]
  },
  {
   "cell_type": "code",
   "execution_count": 3,
   "metadata": {},
   "outputs": [],
   "source": [
    "Data_file = 'Data/2023-12-28/Data.csv'"
   ]
  },
  {
   "cell_type": "code",
   "execution_count": 12,
   "metadata": {},
   "outputs": [],
   "source": [
    "class CustomDataset(Dataset):\n",
    "    def __init__(self, x, y):\n",
    "        self.x = x\n",
    "        self.x = y\n",
    "\n",
    "    def __len__(self):\n",
    "        return len(self.x)\n",
    "\n",
    "    def __getitem__(self, idx):\n",
    "        return self.x[idx], self.y[idx]\n",
    "\n",
    "\n",
    "data = pd.read_csv(Data_file,header=0,skiprows=[0,2,3])\n",
    "data_cleaned = data.loc[:, (data.max(axis=0) != data.min(axis=0)) & ~data.isna().all(axis=0)]\n",
    "FyFL = data_cleaned.pop('Car.FyFL')\n",
    "\n",
    "data_cleaned = data_cleaned.values\n",
    "FyFL = FyFL.values\n",
    "data_cleaned = torch.tensor(data_cleaned, dtype=torch.float32)\n",
    "FyFL = torch.tensor(FyFL, dtype=torch.float32)\n"
   ]
  },
  {
   "cell_type": "code",
   "execution_count": 16,
   "metadata": {},
   "outputs": [
    {
     "name": "stdout",
     "output_type": "stream",
     "text": [
      "30001\n",
      "(30001,)\n"
     ]
    }
   ],
   "source": [
    "data = pd.read_csv(Data_file,header=0,skiprows=[0,2,3])\n",
    "data_cleaned = data.loc[:, (data.max(axis=0) != data.min(axis=0)) & ~data.isna().all(axis=0)]\n",
    "FyFL = data_cleaned.pop('Car.FyFL')\n",
    "\n",
    "data_cleaned = data_cleaned.values\n",
    "FyFL = FyFL.values\n",
    "data_cleaned = torch.tensor(data_cleaned, dtype=torch.float32)\n",
    "FyFL = torch.tensor(FyFL, dtype=torch.float32)\n",
    "\n",
    "X_train, X_val, y_train, y_val = train_test_split(data_cleaned, FyFL, test_size=0.2, random_state=42)\n",
    "\n",
    "train_dataset = CustomDataset(X_train,y_train)\n",
    "val_dataset = CustomDataset(X_val,y_val)"
   ]
  }
 ],
 "metadata": {
  "kernelspec": {
   "display_name": "TV",
   "language": "python",
   "name": "python3"
  },
  "language_info": {
   "name": "python",
   "version": "3.7.16"
  }
 },
 "nbformat": 4,
 "nbformat_minor": 2
}
