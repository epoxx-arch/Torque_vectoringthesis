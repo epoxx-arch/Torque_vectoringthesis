{
 "cells": [
  {
   "cell_type": "code",
   "execution_count": 92,
   "metadata": {},
   "outputs": [],
   "source": [
    "import numpy as np\n",
    "import torch\n",
    "import torch.nn as nn\n",
    "import pandas as pd\n",
    "import math as m\n",
    "import os\n",
    "import matplotlib.pyplot as plt\n",
    "from torch.utils.data import Dataset, DataLoader\n",
    "from scipy import io"
   ]
  },
  {
   "cell_type": "code",
   "execution_count": 93,
   "metadata": {},
   "outputs": [
    {
     "name": "stdout",
     "output_type": "stream",
     "text": [
      "CUDA is available\n"
     ]
    }
   ],
   "source": [
    "pt_path = '../Data/ML/2024-04-23/pt/50/model_epoch_399.pt'\n",
    "input_path = \"../Data/concat_data/track_data1.csv\"\n",
    "if torch.cuda.is_available():\n",
    "    device = torch.device('cuda:0')\n",
    "    print('CUDA is available')\n",
    "else:\n",
    "    print('No CUDA, using CPU')\n",
    "    device = torch.device('cpu')\n"
   ]
  },
  {
   "cell_type": "code",
   "execution_count": 94,
   "metadata": {},
   "outputs": [],
   "source": [
    "class EstimationLSTM(nn.Module):\n",
    "    def __init__(self, input_size, hidden_size, output_size, seq_len, num_layers):\n",
    "        super(EstimationLSTM, self).__init__()\n",
    "        self.seq_len = seq_len\n",
    "        self.num_layers = num_layers\n",
    "        self.hidden_size = hidden_size\n",
    "        self.input_size = input_size\n",
    "        self.output_size = output_size\n",
    "\n",
    "        # LSTM layer followed by a fully connected layer\n",
    "        self.lstm = nn.LSTM(input_size, hidden_size, num_layers=num_layers, batch_first=True)\n",
    "        self.fc = nn.Linear(hidden_size, output_size)\n",
    "\n",
    "        self.fc1 = nn.Linear(hidden_size, hidden_size)\n",
    "        self.fc2 = nn.Linear(hidden_size, output_size)\n",
    "\n",
    "    def forward(self, x):\n",
    "        # Forward pass through LSTM and fully connected layer\n",
    "\n",
    "\n",
    "        out, _ = self.lstm(x)\n",
    "        out = self.fc1(out[:, -1])\n",
    "        out = self.fc2(out)\n",
    " \n",
    "        return out\n",
    "\n",
    "    def reset_hidden_state(self):\n",
    "        # Reset hidden state of the LSTM\n",
    "        self.hidden = (\n",
    "            torch.zeros(self.num_layers, self.seq_len, self.hidden_size),\n",
    "            torch.zeros(self.num_layers, self.seq_len, self.hidden_size)\n",
    "        )"
   ]
  },
  {
   "cell_type": "code",
   "execution_count": 95,
   "metadata": {},
   "outputs": [],
   "source": [
    "def normalization(data,min_val,max_val):\n",
    "        # Normalize the input data\n",
    "        data_shape = data.shape\n",
    "        data = np.reshape(data,(-1,data.shape[-1]))\n",
    "\n",
    "        min_value = np.zeros(shape = np.size(min_val))\n",
    "        max_value = np.ones(shape = np.size(max_val))\n",
    "        scaled_data = min_value + (max_value - min_value) * (data - min_val) / (max_val - min_val)\n",
    "\n",
    "        negative_indices = scaled_data < 0\n",
    "        scaled_data[negative_indices] = 0\n",
    "\n",
    "        over_indices = scaled_data > 1\n",
    "        scaled_data[over_indices] = 1\n",
    "\n",
    "        scaled_data = np.reshape(scaled_data,data_shape)\n",
    "        \n",
    "        return scaled_data\n",
    "        \n",
    "        \n",
    "def denormalization(scaled_data,y_min_value,y_max_value):\n",
    "\n",
    "        min_val = y_min_value\n",
    "        max_val = y_max_value\n",
    "\n",
    "        denormalized_data = min_val + (max_val - min_val) * (scaled_data)\n",
    "\n",
    "        return denormalized_data"
   ]
  },
  {
   "cell_type": "code",
   "execution_count": 96,
   "metadata": {},
   "outputs": [],
   "source": [
    "# Data import\n",
    "x_min_value =  np.array([-0.6, 0, 0, 0, 0, -30, -1, -2, 0])\n",
    "y_min_value = np.array([-4000])\n",
    "x_max_value =  np.array([0.6, 30, 30, 30, 30, 30, 1, 2, 35])\n",
    "y_max_value = np.array([4000])\n",
    "\n",
    "data = pd.read_csv(input_path)\n",
    "y = data.pop(str(data.columns[-1])).values\n",
    "data = data.values\n",
    "data_X = []\n",
    "data_Y = []\n",
    "for i in range(0, len(data) - 200):\n",
    "                _x = data[i:i + 200, :]\n",
    "                _y = np.array([y[i + 200-1]])\n",
    "                data_X.append(_x)\n",
    "                data_Y.append(_y)\n",
    "\n",
    "# Data normailzaition\n",
    "data_X = np.array(data_X)\n",
    "data_Y = np.array(data_Y)\n",
    "data_Y = normalization(data_Y,y_min_value,y_max_value)\n",
    "data_X = normalization(data_X,x_min_value,x_max_value)\n",
    "\n",
    "data_tensor = torch.tensor(data_X, dtype=torch.float32)"
   ]
  },
  {
   "cell_type": "code",
   "execution_count": 97,
   "metadata": {},
   "outputs": [
    {
     "data": {
      "text/plain": [
       "EstimationLSTM(\n",
       "  (lstm): LSTM(9, 50, batch_first=True)\n",
       "  (fc): Linear(in_features=50, out_features=1, bias=True)\n",
       "  (fc1): Linear(in_features=50, out_features=50, bias=True)\n",
       "  (fc2): Linear(in_features=50, out_features=1, bias=True)\n",
       ")"
      ]
     },
     "execution_count": 97,
     "metadata": {},
     "output_type": "execute_result"
    }
   ],
   "source": [
    "model_pt = torch.load(pt_path)\n",
    "model_pt.eval()\n"
   ]
  },
  {
   "cell_type": "code",
   "execution_count": 104,
   "metadata": {},
   "outputs": [],
   "source": [
    "data_tensor=data_tensor.to(device=device)\n",
    "model_pt = model_pt.to(device=device)\n",
    "\n",
    "with torch.no_grad():\n",
    "    outputs = []\n",
    "    for x in data_tensor:\n",
    "        x = x.unsqueeze(0)\n",
    "        output = model_pt(x)\n",
    "        outputs.append(output.to('cpu'))\n",
    "\n",
    "outputs = denormalization(outputs,y_min_value,y_max_value)\n"
   ]
  },
  {
   "cell_type": "code",
   "execution_count": null,
   "metadata": {},
   "outputs": [],
   "source": [
    "data_to_save = {\n",
    "    'label' : y.reshape(-1,1),\n",
    "    'output' : outputs.reshape(-1,1),\n",
    "\n",
    "}\n",
    "\n",
    "mat_file_path = ''\n",
    "\n",
    "io.savemat(mat_file_path,data_to_save)"
   ]
  }
 ],
 "metadata": {
  "kernelspec": {
   "display_name": "TV",
   "language": "python",
   "name": "python3"
  },
  "language_info": {
   "codemirror_mode": {
    "name": "ipython",
    "version": 3
   },
   "file_extension": ".py",
   "mimetype": "text/x-python",
   "name": "python",
   "nbconvert_exporter": "python",
   "pygments_lexer": "ipython3",
   "version": "3.12.1"
  }
 },
 "nbformat": 4,
 "nbformat_minor": 2
}
