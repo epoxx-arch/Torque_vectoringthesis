{
 "cells": [
  {
   "cell_type": "code",
   "execution_count": 9,
   "metadata": {},
   "outputs": [],
   "source": [
    "import pandas as pd\n",
    "import torch\n",
    "import torch.nn as nn\n",
    "import torch.optim as optim\n",
    "import numpy as np\n",
    "from torch.utils.data import Dataset, DataLoader\n",
    "from sklearn.model_selection import train_test_split\n",
    "from tqdm import tqdm\n",
    "import os\n",
    "from datetime import datetime"
   ]
  },
  {
   "cell_type": "code",
   "execution_count": 10,
   "metadata": {},
   "outputs": [],
   "source": [
    "class CustomDataset(Dataset):\n",
    "    def __init__(self, x, y):\n",
    "        self.x = x\n",
    "        self.y = y\n",
    "\n",
    "    def __len__(self):\n",
    "        return len(self.x)\n",
    "\n",
    "    def __getitem__(self, idx):\n",
    "        return self.x[idx], self.y[idx]"
   ]
  },
  {
   "cell_type": "code",
   "execution_count": 11,
   "metadata": {},
   "outputs": [],
   "source": [
    "class DNN(nn.Module):\n",
    "    def __init__(self,input_size,hidden_size,depth):\n",
    "        super().__init__()\n",
    "        self.input_size = input_size\n",
    "        self.hidden_size = hidden_size\n",
    "        self.depth = depth\n",
    "        self.fc1 = nn.Linear(self.input_size,self.hidden_size)\n",
    "        self.fc2 = nn.Linear(self.hidden_size,self.hidden_size)\n",
    "        self.fc3 = nn.Linear(self.hidden_size,1)\n",
    "        self.relu = nn.ReLU()\n",
    "        self.dropout = nn.Dropout(0.2)\n",
    "    \n",
    "\n",
    "    def forward(self,x):\n",
    "        x = self.relu(self.fc1(x))\n",
    "        for i in range(self.depth):\n",
    "            x = self.relu(self.fc2(x))\n",
    "            x = self.dropout(x)\n",
    "        x = self.relu(self.fc3(x))\n",
    "\n",
    "        return x"
   ]
  },
  {
   "cell_type": "code",
   "execution_count": 12,
   "metadata": {},
   "outputs": [],
   "source": [
    "class TV():\n",
    "    def __init__(self):\n",
    "\n",
    "        if torch.cuda.is_available():\n",
    "            self.device = torch.device('cuda:0')\n",
    "            print('Cuda is available')\n",
    "        else:\n",
    "            print('there is no Cuda')\n",
    "            self.device = torch.device('cpu')\n",
    "\n",
    "        torch.cuda.set_device(self.device)\n",
    "\n",
    "    def normalization(self,data):\n",
    "            mean = torch.mean(data, dim=0)\n",
    "            std = torch.std(data, dim=0)\n",
    "            result = (data-mean) / std\n",
    "            \n",
    "            return result\n",
    "\n",
    "\n",
    "    def data_loader(self,Data_path,batch_size = 32,split =0.2):\n",
    "        Data = pd.read_csv(Data_path,header=0,skiprows=[0,2,3])\n",
    "        \n",
    "        y = Data.pop(str(Data.columns[-1])).values\n",
    "\n",
    "        Data = torch.tensor(Data.values, dtype=torch.float32)\n",
    "\n",
    "        normalized_data = self.normalization(Data)\n",
    "\n",
    "\n",
    "        y = torch.tensor(y, dtype=torch.float32)\n",
    "        normalized_y = self.normalization(y)\n",
    "\n",
    "        normalized_data = normalized_data.to(self.device)\n",
    "        normalized_y = normalized_y.to(self.device)\n",
    "        y = y.to(self.device)\n",
    "\n",
    "\n",
    "        X_train, X_val, y_train, y_val = train_test_split(Data, y, test_size=split, random_state=30)\n",
    "\n",
    "        train_dataset = CustomDataset(X_train,y_train)\n",
    "        val_dataset = CustomDataset(X_val,y_val)\n",
    "\n",
    "        self.train_loader = DataLoader(train_dataset, batch_size=batch_size, shuffle=True)\n",
    "        self.val_loader = DataLoader(val_dataset, batch_size=batch_size)\n",
    "    \n",
    "    def show_dataset(self):\n",
    "        input_data, output_data = next(iter(self.train_loader))\n",
    "        print(input_data[0], output_data[0])\n",
    "\n",
    "    def make_dir(self,log_dir,pt_dir):\n",
    "        self.pt_dir = os.path.join(pt_dir,str(self.hidden_size)+'_depth_'+str(self.depth))\n",
    "        self.log_dir = log_dir\n",
    "        if os.path.isdir(self.log_dir) == False:\n",
    "            os.makedirs(self.log_dir)\n",
    "        if os.path.isdir(self.pt_dir) == False:\n",
    "            os.makedirs(self.pt_dir)\n",
    "    \n",
    "    def model_setting(self,hidden_size,depth=2):\n",
    "        self.hidden_size = hidden_size\n",
    "        self.depth = depth\n",
    "        sample_batch = next(iter(self.train_loader))\n",
    "        self.input_size = sample_batch[0].shape[1]\n",
    "        self.model = DNN(self.input_size,self.hidden_size,self.depth)\n",
    "        self.model.to(self.device)\n",
    "\n",
    "    def train_setting(self,lr=0.2, loss = nn.MSELoss()):\n",
    "        self.criterion = loss\n",
    "        self.optimizer = optim.Adam(self.model.parameters(),lr=lr)\n",
    "\n",
    "    def save_checkpoint(self,model, filename):\n",
    "        torch.save(model, filename)\n",
    "\n",
    "    def train(self,epoch):\n",
    "        self.loss_log=[]\n",
    "        \n",
    "        for epoch in tqdm(range(epoch)):\n",
    "            total_train_loss = 0\n",
    "            self.model.train()\n",
    "            for inputs, labels in self.train_loader:\n",
    "                self.optimizer.zero_grad()\n",
    "                outputs = self.model(inputs)\n",
    "                train_loss = self.criterion(outputs.squeeze(), labels)\n",
    "                train_loss.backward()\n",
    "                self.optimizer.step()\n",
    "                total_train_loss += train_loss.item()\n",
    "            avg_train_loss =total_train_loss/len(self.train_loader)\n",
    "\n",
    "            # Validation loop\n",
    "            self.model.eval()\n",
    "            with torch.no_grad():\n",
    "                val_loss =0\n",
    "                for inputs, labels in self.val_loader:\n",
    "                    outputs = self.model(inputs)\n",
    "                    val_loss += self.criterion(outputs.squeeze(), labels).item()\n",
    "                avg_val_loss = val_loss/ len(self.val_loader)\n",
    "            \n",
    "            self.loss_log.append([avg_train_loss,avg_val_loss])\n",
    "\n",
    "            print(f'Epoch {epoch+1}, Loss: {avg_train_loss:.4f}, Validation Loss: {avg_val_loss:.4f}')\n",
    "            self.save_checkpoint(self.model,  os.path.join(self.pt_dir,f'model_epoch_{epoch}.pt'))\n",
    "    \n",
    "    def save_log(self):\n",
    "        log = pd.DataFrame(self.loss_log, columns=['Train loss', 'Validation Loss'])\n",
    "        with pd.ExcelWriter(os.path.join(self.log_dir,'log_hidden_'+str(self.hidden_size)+'_depth_'+str(self.depth)+'.xlsx'), engine=\"xlsxwriter\") as writer:\n",
    "             log.to_excel(writer, sheet_name=\"Loss\")\n",
    "\n",
    "    def del_model(self):\n",
    "        del self.model\n",
    "        torch.cuda.empty_cache()"
   ]
  },
  {
   "cell_type": "code",
   "execution_count": 13,
   "metadata": {},
   "outputs": [],
   "source": [
    "batch_size = 32\n",
    "lr = 0.001\n",
    "Loss = nn.MSELoss()\n",
    "hidden_size = 5\n",
    "depth = 2\n",
    "epoch = 200"
   ]
  },
  {
   "cell_type": "code",
   "execution_count": 14,
   "metadata": {},
   "outputs": [],
   "source": [
    "today = datetime.today()\n",
    "Data_path = os.path.join('D:\\TV\\Save_data',str(today.date()),'Select_Data.csv')\n",
    "log_dir = os.path.join('D:\\TV\\Save_data',str(today.date()),'log')\n",
    "pt_dir = os.path.join(\"D:\\TV\\Save_data\",str(today.date()),\"pt\")"
   ]
  },
  {
   "cell_type": "code",
   "execution_count": 15,
   "metadata": {},
   "outputs": [
    {
     "name": "stdout",
     "output_type": "stream",
     "text": [
      "Cuda is available\n"
     ]
    }
   ],
   "source": [
    "tv = TV()\n",
    "tv.data_loader(Data_path,batch_size=batch_size)\n"
   ]
  },
  {
   "cell_type": "code",
   "execution_count": 16,
   "metadata": {},
   "outputs": [
    {
     "name": "stdout",
     "output_type": "stream",
     "text": [
      "tensor([-6.3949e-02, -6.4303e-02,  1.9100e+00,  8.6760e-01,  3.1075e+01,\n",
      "         3.1042e+01, -5.5925e-03,  3.2601e+01,  3.1040e+01]) tensor(-185.8687, device='cuda:0')\n"
     ]
    }
   ],
   "source": [
    "tv.show_dataset()"
   ]
  }
 ],
 "metadata": {
  "kernelspec": {
   "display_name": "TV",
   "language": "python",
   "name": "python3"
  },
  "language_info": {
   "codemirror_mode": {
    "name": "ipython",
    "version": 3
   },
   "file_extension": ".py",
   "mimetype": "text/x-python",
   "name": "python",
   "nbconvert_exporter": "python",
   "pygments_lexer": "ipython3",
   "version": "3.11.5"
  }
 },
 "nbformat": 4,
 "nbformat_minor": 2
}
