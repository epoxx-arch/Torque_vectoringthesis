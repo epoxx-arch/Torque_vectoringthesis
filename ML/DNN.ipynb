{
 "cells": [
  {
   "cell_type": "code",
   "execution_count": 17,
   "metadata": {},
   "outputs": [],
   "source": [
    "import pandas as pd\n",
    "import torch\n",
    "import torch.nn as nn\n",
    "import torch.optim as optim\n",
    "import numpy as np\n",
    "from torch.utils.data import Dataset, DataLoader\n",
    "from sklearn.model_selection import train_test_split\n",
    "from tqdm import tqdm\n",
    "import os\n",
    "from datetime import datetime"
   ]
  },
  {
   "cell_type": "code",
   "execution_count": 18,
   "metadata": {},
   "outputs": [],
   "source": [
    "if torch.cuda.is_available():\n",
    "    device = torch.device('cuda:0')\n",
    "    torch.cuda.set_device(device)\n",
    "else:\n",
    "    print('there is no Cuda')\n",
    "    device = torch.device('cpu')\n",
    "    torch.cuda.set_device(device)"
   ]
  },
  {
   "cell_type": "code",
   "execution_count": 19,
   "metadata": {},
   "outputs": [],
   "source": [
    "today = datetime.today()\n",
    "Data_file = os.path.join('../Data',str(today.date()),'Data.csv')\n",
    "log_dir = os.path.join('D:/TV/Save_data',str(today.date()),'log')\n",
    "pth_dir = os.path.join(\"D:/TV/Save_data',str(today.date()),'pth\")"
   ]
  },
  {
   "cell_type": "code",
   "execution_count": 27,
   "metadata": {},
   "outputs": [],
   "source": [
    "class CustomDataset(Dataset):\n",
    "    def __init__(self, x, y):\n",
    "        self.x = x\n",
    "        self.y = y\n",
    "\n",
    "    def __len__(self):\n",
    "        return len(self.x)\n",
    "\n",
    "    def __getitem__(self, idx):\n",
    "        return self.x[idx], self.y[idx]\n",
    "\n",
    "\n",
    "data = pd.read_csv(Data_file,header=0,skiprows=[0,2,3])\n",
    "data_cleaned = data.loc[:, (data.max(axis=0) != data.min(axis=0)) & ~data.isna().all(axis=0)]\n",
    "FyFL = data_cleaned.pop('Car.FyFL')\n",
    "\n",
    "data_cleaned = data_cleaned.values\n",
    "FyFL = FyFL.values\n",
    "data_cleaned = torch.tensor(data_cleaned, dtype=torch.float32).to(device)\n",
    "FyFL = torch.tensor(FyFL, dtype=torch.float32).to(device)\n"
   ]
  },
  {
   "cell_type": "code",
   "execution_count": 28,
   "metadata": {},
   "outputs": [
    {
     "data": {
      "text/plain": [
       "'torch.cuda.FloatTensor'"
      ]
     },
     "execution_count": 28,
     "metadata": {},
     "output_type": "execute_result"
    }
   ],
   "source": [
    "data_cleaned.type()"
   ]
  },
  {
   "cell_type": "code",
   "execution_count": null,
   "metadata": {},
   "outputs": [],
   "source": [
    "def save_checkpoint(model, filename):\n",
    "    torch.save(model, filename)"
   ]
  },
  {
   "cell_type": "code",
   "execution_count": 16,
   "metadata": {},
   "outputs": [],
   "source": [
    "\n",
    "X_train, X_val, y_train, y_val = train_test_split(data_cleaned, FyFL, test_size=0.2, random_state=42)\n",
    "\n",
    "train_dataset = CustomDataset(X_train,y_train)\n",
    "val_dataset = CustomDataset(X_val,y_val)\n",
    "\n",
    "train_loader = DataLoader(train_dataset, batch_size=32, shuffle=True)\n",
    "val_loader = DataLoader(val_dataset, batch_size=32)\n"
   ]
  },
  {
   "cell_type": "code",
   "execution_count": null,
   "metadata": {},
   "outputs": [],
   "source": [
    "class DNN(nn.Module):\n",
    "    def __init__(self,input_size,hidden_size,depth = 2):\n",
    "        super().__init__()\n",
    "        self.input_size = input_size\n",
    "        self.hidden_size = hidden_size\n",
    "        self.depth = depth\n",
    "        self.fc1 = nn.Linear(self.input_size,self.hidden_size)\n",
    "        self.fc2 = nn.Linear(self.hidden_size,self.hidden_size)\n",
    "        self.fc3 = nn.Linear(self.hidden_size,1)\n",
    "        self.relu = nn.ReLU()\n",
    "    \n",
    "\n",
    "    def forward(self,x):\n",
    "        x = self.relu(self.fc1(x))\n",
    "        for i in range(self.depth):\n",
    "            x = self.relu(self.fc2(x))\n",
    "        x = self.relu(self.fc3(x))\n",
    "\n",
    "        return x\n"
   ]
  },
  {
   "cell_type": "code",
   "execution_count": null,
   "metadata": {},
   "outputs": [],
   "source": [
    "model = DNN()\n",
    "model.to(device)\n",
    "criterion = nn.MSELoss()\n",
    "optimizer = optim.Adam(model.parameters(), lr= 0.001)\n",
    "loss_log = []\n"
   ]
  },
  {
   "cell_type": "code",
   "execution_count": null,
   "metadata": {},
   "outputs": [],
   "source": [
    "# Training loop\n",
    "for epoch in tqdm(range(10)):\n",
    "    model.train()\n",
    "    for inputs, labels in train_loader:\n",
    "        optimizer.zero_grad()\n",
    "        outputs = model(inputs)\n",
    "        train_loss = criterion(outputs, labels)\n",
    "        train_loss.backward()\n",
    "        optimizer.step()\n",
    "\n",
    "    # Validation loop\n",
    "    model.eval()\n",
    "    with torch.no_grad():\n",
    "        val_loss = 0\n",
    "        for inputs, labels in val_loader:\n",
    "            outputs = model(inputs)\n",
    "            val_loss += criterion(outputs, labels).item()\n",
    "        val_loss /= len(val_loader)\n",
    "    loss_log.append([train_loss,val_loss])\n",
    "\n",
    "    print(f'Epoch {epoch+1}, Loss: {train_loss.item():.4f}, Validation Loss: {val_loss:.4f}')\n",
    "    save_checkpoint(epoch, model, os.path.join(pth_dir, f'model_epoch_{epoch}.pth'))\n",
    "\n",
    "loss_log = pd.DataFrame(loss_log, columns=['Train loss', 'Validation Loss'])\n",
    "with pd.ExcelWriter(os.path.join(log_dir,'log'+'.xlsx'), engine=\"xlsxwriter\") as writer:\n",
    "            loss_log.to_excel(writer, sheet_name=\"variables\")"
   ]
  }
 ],
 "metadata": {
  "kernelspec": {
   "display_name": "TV",
   "language": "python",
   "name": "python3"
  },
  "language_info": {
   "codemirror_mode": {
    "name": "ipython",
    "version": 3
   },
   "file_extension": ".py",
   "mimetype": "text/x-python",
   "name": "python",
   "nbconvert_exporter": "python",
   "pygments_lexer": "ipython3",
   "version": "3.11.5"
  }
 },
 "nbformat": 4,
 "nbformat_minor": 2
}
