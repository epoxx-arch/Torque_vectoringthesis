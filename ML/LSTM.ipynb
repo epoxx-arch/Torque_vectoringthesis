{
 "cells": [
  {
   "cell_type": "code",
   "execution_count": null,
   "metadata": {},
   "outputs": [],
   "source": [
    "import pandas as pd\n",
    "import torch\n",
    "import torch.nn as nn\n",
    "import torch.optim as optim\n",
    "import numpy as np\n",
    "from torch.utils.data import Dataset, DataLoader\n",
    "from sklearn.model_selection import train_test_split\n",
    "from tqdm import tqdm\n",
    "import os\n",
    "from datetime import datetime"
   ]
  },
  {
   "cell_type": "code",
   "execution_count": null,
   "metadata": {},
   "outputs": [],
   "source": [
    "class CustomDataset(Dataset):\n",
    "    def __init__(self, x, y):\n",
    "        self.x = x\n",
    "        self.y = y\n",
    "\n",
    "    def __len__(self):\n",
    "        return len(self.x)\n",
    "\n",
    "    def __getitem__(self, idx):\n",
    "        return self.x[idx], self.y[idx]"
   ]
  },
  {
   "cell_type": "code",
   "execution_count": null,
   "metadata": {},
   "outputs": [],
   "source": [
    "class LSTM(nn.Module):\n",
    "    def __init__(self,input_size,hidden_size,depth):\n",
    "        super().__init__()\n",
    "\n",
    "    \n",
    "\n",
    "    def forward(self,x):\n",
    "\n",
    "        return x"
   ]
  },
  {
   "cell_type": "code",
   "execution_count": null,
   "metadata": {},
   "outputs": [],
   "source": [
    "class Estimation_My():\n",
    "    def __init__(self):\n",
    "\n",
    "        if torch.cuda.is_available():\n",
    "            self.device = torch.device('cuda:0')\n",
    "            print('Cuda is available')\n",
    "        else:\n",
    "            print('there is no Cuda')\n",
    "            self.device = torch.device('cpu')\n",
    "\n",
    "        torch.cuda.set_device(self.device)\n",
    "\n",
    "    def normalization(self,data):\n",
    "            mean = torch.mean(data, dim=0)\n",
    "            std = torch.std(data, dim=0)\n",
    "            result = 100 * (data-mean) / std\n",
    "            \n",
    "            return result\n",
    "    \n",
    "    def make_dir(self,log_dir,pt_dir):\n",
    "        self.pt_dir = os.path.join(pt_dir,str(self.hidden_size)+'_depth_'+str(self.depth))\n",
    "        self.log_dir = log_dir\n",
    "        if os.path.isdir(self.log_dir) == False:\n",
    "            os.makedirs(self.log_dir)\n",
    "        if os.path.isdir(self.pt_dir) == False:\n",
    "            os.makedirs(self.pt_dir)"
   ]
  }
 ],
 "metadata": {
  "kernelspec": {
   "display_name": "TV",
   "language": "python",
   "name": "python3"
  },
  "language_info": {
   "name": "python",
   "version": "3.11.5"
  }
 },
 "nbformat": 4,
 "nbformat_minor": 2
}
